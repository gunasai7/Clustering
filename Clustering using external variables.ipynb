{
  "nbformat": 4,
  "nbformat_minor": 0,
  "metadata": {
    "colab": {
      "name": "Assignment 4 - Problem 2.ipynb",
      "provenance": [],
      "collapsed_sections": []
    },
    "kernelspec": {
      "name": "python3",
      "display_name": "Python 3"
    },
    "accelerator": "GPU"
  },
  "cells": [
    {
      "cell_type": "code",
      "metadata": {
        "id": "w1hDk9hDvOH7",
        "colab_type": "code",
        "outputId": "6e324224-3d1b-4a0c-d51c-f487f765494c",
        "colab": {
          "base_uri": "https://localhost:8080/",
          "height": 139
        }
      },
      "source": [
        "\n",
        "import pandas as pd\n",
        "import numpy as np\n",
        "\n",
        "from sklearn.cluster import KMeans\n",
        "# Calculate silhouette_score\n",
        "from sklearn.metrics import silhouette_score\n",
        "\n",
        "import warnings\n",
        "warnings.filterwarnings(\"ignore\")\n",
        "\n",
        "from google.colab import drive\n",
        "drive.mount('/gdrive')\n",
        "#Change current working directory to gdrive\n",
        "%cd /gdrive\n"
      ],
      "execution_count": 1,
      "outputs": [
        {
          "output_type": "stream",
          "text": [
            "Go to this URL in a browser: https://accounts.google.com/o/oauth2/auth?client_id=947318989803-6bn6qk8qdgf4n4g3pfee6491hc0brc4i.apps.googleusercontent.com&redirect_uri=urn%3aietf%3awg%3aoauth%3a2.0%3aoob&response_type=code&scope=email%20https%3a%2f%2fwww.googleapis.com%2fauth%2fdocs.test%20https%3a%2f%2fwww.googleapis.com%2fauth%2fdrive%20https%3a%2f%2fwww.googleapis.com%2fauth%2fdrive.photos.readonly%20https%3a%2f%2fwww.googleapis.com%2fauth%2fpeopleapi.readonly\n",
            "\n",
            "Enter your authorization code:\n",
            "··········\n",
            "Mounted at /gdrive\n",
            "/gdrive\n"
          ],
          "name": "stdout"
        }
      ]
    },
    {
      "cell_type": "code",
      "metadata": {
        "id": "BMwGQK7KAd7T",
        "colab_type": "code",
        "outputId": "ac8e7704-cfde-498a-d4a6-773d22acfb6b",
        "colab": {
          "base_uri": "https://localhost:8080/",
          "height": 34
        }
      },
      "source": [
        "#Read files\n",
        "trainfile = r'/gdrive/My Drive/CIS 508/Assignment 4/Test2/Customer.csv'\n",
        "trainData = pd.read_csv(trainfile) #creates a dataframe\n",
        "print(trainData.shape)\n",
        "\n"
      ],
      "execution_count": 2,
      "outputs": [
        {
          "output_type": "stream",
          "text": [
            "(440, 8)\n"
          ],
          "name": "stdout"
        }
      ]
    },
    {
      "cell_type": "code",
      "metadata": {
        "id": "SWOTk6C1Ao45",
        "colab_type": "code",
        "outputId": "b5beb66b-9840-46c5-cb9f-6e9ea85fc3c2",
        "colab": {
          "base_uri": "https://localhost:8080/",
          "height": 136
        }
      },
      "source": [
        "\n",
        "X_train = trainData.iloc[: ,2:8]\n",
        "print(X_train.shape)\n",
        "print(X_train.head())\n",
        "\n"
      ],
      "execution_count": 4,
      "outputs": [
        {
          "output_type": "stream",
          "text": [
            "(440, 6)\n",
            "   Fresh  Milk  Grocery  Frozen  Detergents_Paper  Delicassen\n",
            "0  12669  9656     7561     214              2674        1338\n",
            "1   7057  9810     9568    1762              3293        1776\n",
            "2   6353  8808     7684    2405              3516        7844\n",
            "3  13265  1196     4221    6404               507        1788\n",
            "4  22615  5410     7198    3915              1777        5185\n"
          ],
          "name": "stdout"
        }
      ]
    },
    {
      "cell_type": "code",
      "metadata": {
        "id": "-Yd724taAv3o",
        "colab_type": "code",
        "outputId": "1829404c-a7af-4778-9f0f-43ac381fd1e8",
        "colab": {
          "base_uri": "https://localhost:8080/",
          "height": 51
        }
      },
      "source": [
        "#K-Means Clustering ========================================================================\n",
        "k = 6\n",
        "kmeans = KMeans(n_clusters=6)\n",
        "kmeans.fit(X_train)\n",
        "df_kmeans=X_train\n",
        "kmeans_predict_train=kmeans.predict(df_kmeans)\n",
        "df_kmeans['Cluster Number']=kmeans_predict_train\n",
        "print(df_kmeans.shape)\n",
        "\n",
        "print(silhouette_score(X_train, kmeans.labels_))\n",
        "export_csv = df_kmeans.to_csv(r'/gdrive/My Drive/CIS 508/Assignment 4/Test3/DefaultKmeans.csv')\n"
      ],
      "execution_count": 8,
      "outputs": [
        {
          "output_type": "stream",
          "text": [
            "(440, 7)\n",
            "0.3728595655083374\n"
          ],
          "name": "stdout"
        }
      ]
    },
    {
      "cell_type": "code",
      "metadata": {
        "id": "BS5_VtIHdJvW",
        "colab_type": "code",
        "colab": {
          "base_uri": "https://localhost:8080/",
          "height": 51
        },
        "outputId": "fae7f147-7729-4602-e8b6-c2d81abf0979"
      },
      "source": [
        "#HyperTuning Clustering\n",
        "kmeans = KMeans(n_clusters=6, init='random', algorithm='elkan')\n",
        "kmeans.fit(X_train)\n",
        "df_kmeans=X_train\n",
        "kmeans_predict_train=kmeans.predict(df_kmeans)\n",
        "df_kmeans['Cluster Number']=kmeans_predict_train\n",
        "print(df_kmeans.shape)\n",
        "\n",
        "print(silhouette_score(X_train, kmeans.labels_))\n",
        "export_csv = df_kmeans.to_csv(r'/gdrive/My Drive/CIS 508/Assignment 4/Test3/HypertuningKmeans.csv')"
      ],
      "execution_count": 13,
      "outputs": [
        {
          "output_type": "stream",
          "text": [
            "(440, 7)\n",
            "0.37663289425016494\n"
          ],
          "name": "stdout"
        }
      ]
    }
  ]
}